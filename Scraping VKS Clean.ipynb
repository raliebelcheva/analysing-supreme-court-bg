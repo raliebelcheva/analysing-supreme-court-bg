{
 "cells": [
  {
   "cell_type": "code",
   "execution_count": 1,
   "metadata": {},
   "outputs": [],
   "source": [
    "from urllib.request import urlopen\n",
    "from bs4 import BeautifulSoup as soup\n",
    "from itertools import compress\n",
    "\n",
    "import pprint\n",
    "\n",
    "import re\n",
    "\n",
    "import pandas as pd\n",
    "from datetime import datetime"
   ]
  },
  {
   "cell_type": "code",
   "execution_count": 2,
   "metadata": {},
   "outputs": [],
   "source": [
    "## iterable object\n",
    "\n",
    "## what if we make a bunch of if-else statements?\n",
    "\n",
    "cit0 = re.compile('чл.?\\s?[0-9\\-]*[\\s,]\\w*')\n",
    "cit1 = re.compile('чл.\\S?\\s?[0-9]*[\\s,]+ал.\\S?[0-9\\-]*[\\s,]\\w*')\n",
    "cit2 = re.compile('чл.\\S?\\s?[0-9]*[\\s,]+т\\.\\S?[0-9\\-]*[\\s,]\\w*')\n",
    "cit3 = re.compile('чл.?\\s?[0-9]*[\\s,]+ал.?\\s?[0-9]*[\\s,]+т.?\\s?[0-9\\-]*[\\s,]\\w*')\n",
    "\n",
    "cit = (cit2, cit0, cit1, cit3)"
   ]
  },
  {
   "cell_type": "code",
   "execution_count": null,
   "metadata": {},
   "outputs": [],
   "source": []
  },
  {
   "cell_type": "code",
   "execution_count": 3,
   "metadata": {},
   "outputs": [],
   "source": [
    "# defining date range\n",
    "\n",
    "dr = pd.date_range(start = \"2021-03-14\",end = datetime.today(), freq = 'W')\n",
    "dr_str = dr.strftime(\"%#d.%#m.%Y\")"
   ]
  },
  {
   "cell_type": "code",
   "execution_count": 4,
   "metadata": {},
   "outputs": [],
   "source": [
    "#creating dictionary\n",
    "\n",
    "dictionary = dict()"
   ]
  },
  {
   "cell_type": "code",
   "execution_count": 5,
   "metadata": {},
   "outputs": [],
   "source": [
    "# loop for scraping x7 day iterations of the case law\n",
    "\n",
    "\n",
    "for i in range(0,len(dr_str)-1):\n",
    "    date1 = dr_str[i]\n",
    "    date2 = dr_str[i+1]\n",
    "    vks_url = \"http://domino.vks.bg/bcap/scc/webdata.nsf/Acts?SearchView&query=(FIELD%20DocType%20=%2015)%20AND%20FIELD%20ud0_Date%20%3E=%20{}%20AND%20FIELD%20ud0_Date%20%3C=%20{}%20&SearchOrder=4&Start=1\".format(date1, date2)\n",
    "    uClient = urlopen(vks_url)\n",
    "    page_html = uClient.read()\n",
    "    uClient.close()\n",
    "    page_soup = soup(page_html, \"html.parser\")\n",
    "    findall = page_soup.findAll(\"a\")\n",
    "    for case in findall:\n",
    "        link = case[\"href\"]\n",
    "        name = case.text\n",
    "        uClient = urlopen(link)\n",
    "        casepage_html = uClient.read()\n",
    "        casepage_soup = soup(casepage_html, \"html.parser\")\n",
    "        casetext = casepage_soup.text\n",
    "        citations = [i.findall(casetext) for i in cit]\n",
    "#        for i in range(1,3):\n",
    "#            partof = [any(z in y for y in citations[i + 1]) == False for z in citations[i]]\n",
    "#            citations[i] = list(compress(citations[i], partof))\n",
    "#        partof = [any(z in y for y in citations[0]) == False for z in citations[1]]\n",
    "#        citations[1] = list(compress(citations[1], partof))\n",
    "\n",
    "        citations = [item for sublist in citations for item in sublist]    \n",
    "        dictionary[name] = citations\n"
   ]
  },
  {
   "cell_type": "code",
   "execution_count": null,
   "metadata": {},
   "outputs": [],
   "source": []
  }
 ],
 "metadata": {
  "kernelspec": {
   "display_name": "Python 3",
   "language": "python",
   "name": "python3"
  },
  "language_info": {
   "codemirror_mode": {
    "name": "ipython",
    "version": 3
   },
   "file_extension": ".py",
   "mimetype": "text/x-python",
   "name": "python",
   "nbconvert_exporter": "python",
   "pygments_lexer": "ipython3",
   "version": "3.8.3"
  }
 },
 "nbformat": 4,
 "nbformat_minor": 4
}
